{
 "cells": [
  {
   "cell_type": "code",
   "execution_count": 8,
   "metadata": {},
   "outputs": [
    {
     "name": "stdout",
     "output_type": "stream",
     "text": [
      "Requirement already satisfied: spacy in c:\\users\\shash\\anaconda3\\lib\\site-packages (3.8.4)\n",
      "Requirement already satisfied: langcodes<4.0.0,>=3.2.0 in c:\\users\\shash\\anaconda3\\lib\\site-packages (from spacy) (3.5.0)\n",
      "Requirement already satisfied: pydantic!=1.8,!=1.8.1,<3.0.0,>=1.7.4 in c:\\users\\shash\\anaconda3\\lib\\site-packages (from spacy) (2.9.2)\n",
      "Requirement already satisfied: tqdm<5.0.0,>=4.38.0 in c:\\users\\shash\\anaconda3\\lib\\site-packages (from spacy) (4.64.1)\n",
      "Requirement already satisfied: weasel<0.5.0,>=0.1.0 in c:\\users\\shash\\anaconda3\\lib\\site-packages (from spacy) (0.4.1)\n",
      "Requirement already satisfied: requests<3.0.0,>=2.13.0 in c:\\users\\shash\\anaconda3\\lib\\site-packages (from spacy) (2.28.1)\n",
      "Requirement already satisfied: preshed<3.1.0,>=3.0.2 in c:\\users\\shash\\anaconda3\\lib\\site-packages (from spacy) (3.0.9)\n",
      "Requirement already satisfied: cymem<2.1.0,>=2.0.2 in c:\\users\\shash\\anaconda3\\lib\\site-packages (from spacy) (2.0.11)\n",
      "Requirement already satisfied: numpy>=1.19.0 in c:\\users\\shash\\anaconda3\\lib\\site-packages (from spacy) (1.23.5)\n",
      "Requirement already satisfied: srsly<3.0.0,>=2.4.3 in c:\\users\\shash\\anaconda3\\lib\\site-packages (from spacy) (2.5.1)\n",
      "Requirement already satisfied: thinc<8.4.0,>=8.3.4 in c:\\users\\shash\\anaconda3\\lib\\site-packages (from spacy) (8.3.4)\n",
      "Requirement already satisfied: setuptools in c:\\users\\shash\\anaconda3\\lib\\site-packages (from spacy) (65.6.3)\n",
      "Requirement already satisfied: spacy-legacy<3.1.0,>=3.0.11 in c:\\users\\shash\\anaconda3\\lib\\site-packages (from spacy) (3.0.12)\n",
      "Requirement already satisfied: catalogue<2.1.0,>=2.0.6 in c:\\users\\shash\\anaconda3\\lib\\site-packages (from spacy) (2.0.10)\n",
      "Requirement already satisfied: wasabi<1.2.0,>=0.9.1 in c:\\users\\shash\\anaconda3\\lib\\site-packages (from spacy) (1.1.3)\n",
      "Requirement already satisfied: spacy-loggers<2.0.0,>=1.0.0 in c:\\users\\shash\\anaconda3\\lib\\site-packages (from spacy) (1.0.5)\n",
      "Requirement already satisfied: jinja2 in c:\\users\\shash\\anaconda3\\lib\\site-packages (from spacy) (3.1.2)\n",
      "Requirement already satisfied: murmurhash<1.1.0,>=0.28.0 in c:\\users\\shash\\anaconda3\\lib\\site-packages (from spacy) (1.0.12)\n",
      "Requirement already satisfied: typer<1.0.0,>=0.3.0 in c:\\users\\shash\\anaconda3\\lib\\site-packages (from spacy) (0.15.1)\n",
      "Requirement already satisfied: packaging>=20.0 in c:\\users\\shash\\anaconda3\\lib\\site-packages (from spacy) (22.0)\n",
      "Requirement already satisfied: language-data>=1.2 in c:\\users\\shash\\anaconda3\\lib\\site-packages (from langcodes<4.0.0,>=3.2.0->spacy) (1.3.0)\n",
      "Requirement already satisfied: typing-extensions>=4.6.1 in c:\\users\\shash\\anaconda3\\lib\\site-packages (from pydantic!=1.8,!=1.8.1,<3.0.0,>=1.7.4->spacy) (4.12.2)\n",
      "Requirement already satisfied: annotated-types>=0.6.0 in c:\\users\\shash\\anaconda3\\lib\\site-packages (from pydantic!=1.8,!=1.8.1,<3.0.0,>=1.7.4->spacy) (0.7.0)\n",
      "Requirement already satisfied: pydantic-core==2.23.4 in c:\\users\\shash\\anaconda3\\lib\\site-packages (from pydantic!=1.8,!=1.8.1,<3.0.0,>=1.7.4->spacy) (2.23.4)\n",
      "Requirement already satisfied: certifi>=2017.4.17 in c:\\users\\shash\\anaconda3\\lib\\site-packages (from requests<3.0.0,>=2.13.0->spacy) (2022.12.7)\n",
      "Requirement already satisfied: charset-normalizer<3,>=2 in c:\\users\\shash\\anaconda3\\lib\\site-packages (from requests<3.0.0,>=2.13.0->spacy) (2.0.4)\n",
      "Requirement already satisfied: idna<4,>=2.5 in c:\\users\\shash\\anaconda3\\lib\\site-packages (from requests<3.0.0,>=2.13.0->spacy) (3.4)\n",
      "Requirement already satisfied: urllib3<1.27,>=1.21.1 in c:\\users\\shash\\anaconda3\\lib\\site-packages (from requests<3.0.0,>=2.13.0->spacy) (1.26.14)\n",
      "Requirement already satisfied: blis<1.3.0,>=1.2.0 in c:\\users\\shash\\anaconda3\\lib\\site-packages (from thinc<8.4.0,>=8.3.4->spacy) (1.2.0)\n",
      "Requirement already satisfied: confection<1.0.0,>=0.0.1 in c:\\users\\shash\\anaconda3\\lib\\site-packages (from thinc<8.4.0,>=8.3.4->spacy) (0.1.5)\n",
      "Requirement already satisfied: colorama in c:\\users\\shash\\anaconda3\\lib\\site-packages (from tqdm<5.0.0,>=4.38.0->spacy) (0.4.6)\n",
      "Requirement already satisfied: rich>=10.11.0 in c:\\users\\shash\\anaconda3\\lib\\site-packages (from typer<1.0.0,>=0.3.0->spacy) (13.9.4)\n",
      "Requirement already satisfied: shellingham>=1.3.0 in c:\\users\\shash\\anaconda3\\lib\\site-packages (from typer<1.0.0,>=0.3.0->spacy) (1.5.4)\n",
      "Requirement already satisfied: click>=8.0.0 in c:\\users\\shash\\anaconda3\\lib\\site-packages (from typer<1.0.0,>=0.3.0->spacy) (8.0.4)\n",
      "Requirement already satisfied: cloudpathlib<1.0.0,>=0.7.0 in c:\\users\\shash\\anaconda3\\lib\\site-packages (from weasel<0.5.0,>=0.1.0->spacy) (0.20.0)\n",
      "Requirement already satisfied: smart-open<8.0.0,>=5.2.1 in c:\\users\\shash\\anaconda3\\lib\\site-packages (from weasel<0.5.0,>=0.1.0->spacy) (5.2.1)\n",
      "Requirement already satisfied: MarkupSafe>=2.0 in c:\\users\\shash\\anaconda3\\lib\\site-packages (from jinja2->spacy) (2.1.1)\n",
      "Requirement already satisfied: marisa-trie>=1.1.0 in c:\\users\\shash\\anaconda3\\lib\\site-packages (from language-data>=1.2->langcodes<4.0.0,>=3.2.0->spacy) (1.2.1)\n",
      "Requirement already satisfied: pygments<3.0.0,>=2.13.0 in c:\\users\\shash\\anaconda3\\lib\\site-packages (from rich>=10.11.0->typer<1.0.0,>=0.3.0->spacy) (2.19.1)\n",
      "Requirement already satisfied: markdown-it-py>=2.2.0 in c:\\users\\shash\\anaconda3\\lib\\site-packages (from rich>=10.11.0->typer<1.0.0,>=0.3.0->spacy) (3.0.0)\n",
      "Requirement already satisfied: mdurl~=0.1 in c:\\users\\shash\\anaconda3\\lib\\site-packages (from markdown-it-py>=2.2.0->rich>=10.11.0->typer<1.0.0,>=0.3.0->spacy) (0.1.2)\n"
     ]
    }
   ],
   "source": [
    "!pip3 install spacy"
   ]
  },
  {
   "cell_type": "code",
   "execution_count": null,
   "metadata": {},
   "outputs": [
    {
     "name": "stdout",
     "output_type": "stream",
     "text": [
      "Collecting en-core-web-sm==3.8.0\n",
      "  Downloading https://github.com/explosion/spacy-models/releases/download/en_core_web_sm-3.8.0/en_core_web_sm-3.8.0-py3-none-any.whl (12.8 MB)\n",
      "     ---------------------------------------- 12.8/12.8 MB 1.9 MB/s eta 0:00:00\n",
      "Installing collected packages: en-core-web-sm\n",
      "Successfully installed en-core-web-sm-3.8.0\n",
      "\u001b[38;5;2m✔ Download and installation successful\u001b[0m\n",
      "You can now load the package via spacy.load('en_core_web_sm')\n"
     ]
    }
   ],
   "source": [
    "!python -m spacy download en_core_web_sm"
   ]
  },
  {
   "cell_type": "code",
   "execution_count": 3,
   "metadata": {},
   "outputs": [],
   "source": [
    "import spacy\n",
    "import re\n",
    "import nltk\n",
    "from nltk.tokenize import sent_tokenize\n",
    "from spacy.matcher import Matcher\n",
    "\n",
    "# Load English NLP model\n",
    "nlp = spacy.load(\"en_core_web_sm\")"
   ]
  },
  {
   "cell_type": "code",
   "execution_count": 18,
   "metadata": {},
   "outputs": [],
   "source": [
    "text = \"\"\"Rahul wakes up early every day. He goes to college in the morning and comes back at 3 pm. \n",
    "At present, Rahul is outside. He has to buy the snacks for all of us. Rahul should clean the room by 5 pm today.\"\"\""
   ]
  },
  {
   "cell_type": "code",
   "execution_count": 19,
   "metadata": {},
   "outputs": [
    {
     "name": "stdout",
     "output_type": "stream",
     "text": [
      "['Rahul wakes up early every day.', 'He goes to college in the morning and comes back at 3 pm.', 'At present, Rahul is outside.', 'He has to buy the snacks for all of us.', 'Rahul should clean the room by 5 pm today.']\n"
     ]
    }
   ],
   "source": [
    "def preprocess_text(text):\n",
    "    sentences = sent_tokenize(text)  # Split into sentences\n",
    "    return sentences\n",
    "\n",
    "sentences = preprocess_text(text)\n",
    "print(sentences)"
   ]
  },
  {
   "cell_type": "code",
   "execution_count": 20,
   "metadata": {},
   "outputs": [
    {
     "name": "stderr",
     "output_type": "stream",
     "text": [
      "[nltk_data] Downloading package punkt to\n",
      "[nltk_data]     C:\\Users\\shash\\AppData\\Roaming\\nltk_data...\n",
      "[nltk_data]   Package punkt is already up-to-date!\n"
     ]
    },
    {
     "data": {
      "text/plain": [
       "True"
      ]
     },
     "execution_count": 20,
     "metadata": {},
     "output_type": "execute_result"
    }
   ],
   "source": [
    "import nltk\n",
    "nltk.download('punkt')"
   ]
  },
  {
   "cell_type": "code",
   "execution_count": 21,
   "metadata": {},
   "outputs": [
    {
     "name": "stdout",
     "output_type": "stream",
     "text": [
      "['He has to buy the snacks for all of us.', 'Rahul should clean the room by 5 pm today.']\n"
     ]
    }
   ],
   "source": [
    "def extract_tasks(sentences):\n",
    "    tasks = []\n",
    "    for sentence in sentences:\n",
    "        doc = nlp(sentence)\n",
    "        for token in doc:\n",
    "            if token.pos_ == \"VERB\":  # Identify action verbs\n",
    "                if \"has to\" in sentence or \"should\" in sentence or \"must\" in sentence:\n",
    "                    tasks.append(sentence)\n",
    "                    break\n",
    "    return tasks\n",
    "\n",
    "tasks = extract_tasks(sentences)\n",
    "print(tasks)"
   ]
  },
  {
   "cell_type": "code",
   "execution_count": 22,
   "metadata": {},
   "outputs": [
    {
     "name": "stdout",
     "output_type": "stream",
     "text": [
      "Task: He has to buy the snacks for all of us., Person: He\n",
      "Task: Rahul should clean the room by 5 pm today., Person: Rahul\n"
     ]
    }
   ],
   "source": [
    "def extract_person(sentence):\n",
    "    doc = nlp(sentence)\n",
    "    persons = [ent.text for ent in doc.ents if ent.label_ == \"PERSON\"]\n",
    "    \n",
    "    # If no named entity is found, look for proper nouns (PROPN)\n",
    "    if not persons:\n",
    "        persons = [token.text for token in doc if token.pos_ == \"PROPN\"]\n",
    "    \n",
    "    # If still empty, check for pronouns\n",
    "    if not persons:\n",
    "        for token in doc:\n",
    "            if token.text.lower() in [\"he\", \"she\", \"they\"]:\n",
    "                return token.text.capitalize()\n",
    "    \n",
    "    return persons[0] if persons else \"Unknown\"\n",
    "\n",
    "for task in tasks:\n",
    "    print(f\"Task: {task}, Person: {extract_person(task)}\")"
   ]
  },
  {
   "cell_type": "code",
   "execution_count": 23,
   "metadata": {},
   "outputs": [
    {
     "name": "stdout",
     "output_type": "stream",
     "text": [
      "Task: He has to buy the snacks for all of us., Person: Rahul\n",
      "Task: Rahul should clean the room by 5 pm today., Person: Rahul\n"
     ]
    }
   ],
   "source": [
    "def find_last_person(text_list, current_sentence):\n",
    "    # Get the index of current sentence\n",
    "    current_index = text_list.index(current_sentence)\n",
    "    \n",
    "    # Look backwards through previous sentences\n",
    "    for sentence in reversed(text_list[:current_index + 1]):\n",
    "        doc = nlp(sentence)\n",
    "        # First check for named entities\n",
    "        persons = [ent.text for ent in doc.ents if ent.label_ == \"PERSON\"]\n",
    "        if persons:\n",
    "            return persons[0]\n",
    "        \n",
    "        # Then check for proper nouns\n",
    "        propn = [token.text for token in doc if token.pos_ == \"PROPN\"]\n",
    "        if propn:\n",
    "            return propn[0]\n",
    "    \n",
    "    return \"Unknown\"\n",
    "\n",
    "def extract_person(sentence, all_sentences):\n",
    "    doc = nlp(sentence)\n",
    "    # First try to find named entity or proper noun in current sentence\n",
    "    persons = [ent.text for ent in doc.ents if ent.label_ == \"PERSON\"]\n",
    "    if not persons:\n",
    "        persons = [token.text for token in doc if token.pos_ == \"PROPN\"]\n",
    "    \n",
    "    # If found, return the person\n",
    "    if persons:\n",
    "        return persons[0]\n",
    "    \n",
    "    # If pronoun is found, look back through previous sentences\n",
    "    for token in doc:\n",
    "        if token.text.lower() in [\"he\", \"she\", \"they\"]:\n",
    "            return find_last_person(all_sentences, sentence)\n",
    "    \n",
    "    return \"Unknown\"\n",
    "\n",
    "# Process tasks with full context\n",
    "for task in tasks:\n",
    "    person = extract_person(task, sentences)\n",
    "    print(f\"Task: {task}, Person: {person}\")"
   ]
  },
  {
   "cell_type": "code",
   "execution_count": 24,
   "metadata": {},
   "outputs": [
    {
     "name": "stdout",
     "output_type": "stream",
     "text": [
      "Task: He has to buy the snacks for all of us., Deadline: No deadline specified\n",
      "Task: Rahul should clean the room by 5 pm today., Deadline: by 5 pm\n"
     ]
    }
   ],
   "source": [
    "def extract_deadline(sentence):\n",
    "    time_phrases = re.findall(r'\\b(by\\s\\d{1,2}\\s?[ap]m|by\\s\\w+|before\\s\\w+|tomorrow)\\b', sentence, re.IGNORECASE)\n",
    "    return time_phrases[0] if time_phrases else \"No deadline specified\"\n",
    "\n",
    "for task in tasks:\n",
    "    print(f\"Task: {task}, Deadline: {extract_deadline(task)}\")"
   ]
  },
  {
   "cell_type": "code",
   "execution_count": null,
   "metadata": {},
   "outputs": [
    {
     "name": "stdout",
     "output_type": "stream",
     "text": [
      "                                         Task Person               Deadline  \\\n",
      "0     He has to buy the snacks for all of us.  Rahul  No deadline specified   \n",
      "1  Rahul should clean the room by 5 pm today.  Rahul                by 5 pm   \n",
      "\n",
      "   Category  \n",
      "0  Shopping  \n",
      "1  Cleaning  \n"
     ]
    }
   ],
   "source": [
    "# Task Categorization\n",
    "def categorize_task(task):\n",
    "    categories = {\n",
    "        \"Shopping\": [\"buy\", \"purchase\", \"get\"],\n",
    "        \"Cleaning\": [\"clean\", \"wash\", \"dust\"],\n",
    "        \"Work/Study\": [\"submit\", \"complete\", \"write\", \"study\"],\n",
    "    }\n",
    "    \n",
    "    for category, keywords in categories.items():\n",
    "        if any(word in task.lower() for word in keywords):\n",
    "            return category\n",
    "    return \"Other\"\n",
    "\n",
    "# Final structured output\n",
    "structured_output = []\n",
    "\n",
    "for task in tasks:\n",
    "    person = extract_person(task,sentences)\n",
    "    deadline = extract_deadline(task)\n",
    "    category = categorize_task(task)\n",
    "\n",
    "    structured_output.append({\n",
    "        \"Task\": task,\n",
    "        \"Person\": person,\n",
    "        \"Deadline\": deadline,\n",
    "        \"Category\": category\n",
    "    })\n",
    "\n",
    "# Display results\n",
    "import pandas as pd\n",
    "df = pd.DataFrame(structured_output)\n",
    "print(df)"
   ]
  },
  {
   "cell_type": "code",
   "execution_count": 26,
   "metadata": {},
   "outputs": [
    {
     "name": "stdout",
     "output_type": "stream",
     "text": [
      "Output saved to extracted_tasks.csv\n"
     ]
    }
   ],
   "source": [
    "# Save to CSV\n",
    "df.to_csv(\"extracted_tasks.csv\", index=False)\n",
    "\n",
    "print(\"Output saved to extracted_tasks.csv\")"
   ]
  },
  {
   "cell_type": "code",
   "execution_count": null,
   "metadata": {},
   "outputs": [],
   "source": []
  }
 ],
 "metadata": {
  "kernelspec": {
   "display_name": "base",
   "language": "python",
   "name": "python3"
  },
  "language_info": {
   "codemirror_mode": {
    "name": "ipython",
    "version": 3
   },
   "file_extension": ".py",
   "mimetype": "text/x-python",
   "name": "python",
   "nbconvert_exporter": "python",
   "pygments_lexer": "ipython3",
   "version": "3.10.9"
  }
 },
 "nbformat": 4,
 "nbformat_minor": 2
}
